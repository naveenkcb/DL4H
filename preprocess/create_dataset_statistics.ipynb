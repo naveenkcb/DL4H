{
 "cells": [
  {
   "attachments": {},
   "cell_type": "markdown",
   "metadata": {},
   "source": [
    "# Create Dataset Statistics"
   ]
  },
  {
   "cell_type": "code",
   "metadata": {
    "ExecuteTime": {
     "end_time": "2025-05-02T04:39:11.442818Z",
     "start_time": "2025-05-02T04:39:11.437655Z"
    }
   },
   "source": [
    "from nltk.tokenize import word_tokenize, sent_tokenize\n",
    "import statistics\n",
    "import json\n",
    "from transformers import AutoTokenizer"
   ],
   "outputs": [],
   "execution_count": 33
  },
  {
   "cell_type": "code",
   "metadata": {
    "ExecuteTime": {
     "end_time": "2025-05-02T04:39:16.314064Z",
     "start_time": "2025-05-02T04:39:15.599319Z"
    }
   },
   "source": [
    "# Load dataset\n",
    "# mimic4_path = '/home/s_hegs02/mimic-iv-note-di/dataset/all.json'\n",
    "# Short references (BHC)\n",
    "mimic4_path = '/Users/royal/Documents/Deep-Learning-Project/pythonProject2/mimic-iv-note-di-bhc/dataset/all.json'\n",
    "\n",
    "dataset = []\n",
    "with open(mimic4_path, 'r') as f:\n",
    "    for line in f:\n",
    "        dataset.append(json.loads(line))\n",
    "        \n",
    "# Print total entries\n",
    "print(f\"Total entries: {len(dataset)}\")"
   ],
   "outputs": [
    {
     "name": "stdout",
     "output_type": "stream",
     "text": [
      "Total entries: 100175\n"
     ]
    }
   ],
   "execution_count": 34
  },
  {
   "cell_type": "code",
   "metadata": {
    "ExecuteTime": {
     "end_time": "2025-05-02T04:39:20.279257Z",
     "start_time": "2025-05-02T04:39:20.276621Z"
    }
   },
   "source": [
    "# Select only 10000 notes\n",
    "# dataset = dataset[:1000]"
   ],
   "outputs": [],
   "execution_count": 35
  },
  {
   "metadata": {
    "ExecuteTime": {
     "end_time": "2025-05-02T04:39:23.958489Z",
     "start_time": "2025-05-02T04:39:23.890249Z"
    }
   },
   "cell_type": "code",
   "source": [
    "from transformers import AutoTokenizer\n",
    "\n",
    "tokenizer = AutoTokenizer.from_pretrained(\n",
    "    \"/Users/royal/Documents/llama-tokenizer\",  # change path to where you saved it\n",
    "    local_files_only=True\n",
    ")"
   ],
   "outputs": [],
   "execution_count": 36
  },
  {
   "metadata": {
    "ExecuteTime": {
     "end_time": "2025-05-02T04:39:31.276317Z",
     "start_time": "2025-05-02T04:39:28.070557Z"
    }
   },
   "cell_type": "code",
   "source": [
    "from transformers import AutoTokenizer\n",
    "\n",
    "tokenizer = AutoTokenizer.from_pretrained('bert-base-uncased')\n"
   ],
   "outputs": [],
   "execution_count": 37
  },
  {
   "cell_type": "code",
   "metadata": {
    "ExecuteTime": {
     "end_time": "2025-05-02T04:44:22.604268Z",
     "start_time": "2025-05-02T04:39:34.353852Z"
    }
   },
   "source": [
    "keys = ['text', 'summary']\n",
    "deidentified_field = '___'\n",
    "\n",
    "for k in keys:\n",
    "\n",
    "    num_sentences = []\n",
    "    num_words = []\n",
    "    num_chars = []\n",
    "    num_tokens = []\n",
    "    num_deidentified_fields = []\n",
    "\n",
    "    for i in range(len(dataset)):\n",
    "        entry = dataset[i][k]\n",
    "        num_sentences.append(len(sent_tokenize(entry)))\n",
    "        num_words.append(len(word_tokenize(entry)))\n",
    "        num_chars.append(len(entry))\n",
    "        num_tokens.append(len(tokenizer.tokenize(entry)))\n",
    "        num_deidentified_fields.append(entry.count(deidentified_field))\n",
    "        \n",
    "    # Determine average and standard deviation using statisitcs module\n",
    "    # Round by one digit\n",
    "    print(f\"{k} - mean number of sentences: {statistics.mean(num_sentences):.1f}\")\n",
    "    print(f\"{k} - mean number of words: {statistics.mean(num_words):.1f}\")\n",
    "    print(f\"{k} - mean number of chars: {statistics.mean(num_chars):.1f}\")\n",
    "    print(f\"{k} - mean number of tokens: {statistics.mean(num_tokens):.1f}\")\n",
    "    print(f\"{k} - mean number of deidentified fields: {statistics.mean(num_deidentified_fields):.1f}\")\n",
    "    \n",
    "    print(f\"{k} - std of number of sentences: {statistics.stdev(num_sentences):.1f}\")\n",
    "    print(f\"{k} - std of number of words: {statistics.stdev(num_words):.1f}\")\n",
    "    print(f\"{k} - std of number of chars: {statistics.stdev(num_chars):.1f}\")\n",
    "    print(f\"{k} - std of number of tokens: {statistics.stdev(num_tokens):.1f}\")\n",
    "    print(f\"{k} - std of number of deidentified fields: {statistics.stdev(num_deidentified_fields):.1f}\")\n",
    "    print()"
   ],
   "outputs": [
    {
     "name": "stderr",
     "output_type": "stream",
     "text": [
      "Token indices sequence length is longer than the specified maximum sequence length for this model (1812 > 512). Running this sequence through the model will result in indexing errors\n"
     ]
    },
    {
     "name": "stdout",
     "output_type": "stream",
     "text": [
      "text - mean number of sentences: 33.0\n",
      "text - mean number of words: 552.0\n",
      "text - mean number of chars: 3029.9\n",
      "text - mean number of tokens: 765.6\n",
      "text - mean number of deidentified fields: 11.5\n",
      "text - std of number of sentences: 19.0\n",
      "text - std of number of words: 314.0\n",
      "text - std of number of chars: 1736.4\n",
      "text - std of number of tokens: 446.4\n",
      "text - std of number of deidentified fields: 9.7\n",
      "\n",
      "summary - mean number of sentences: 6.5\n",
      "summary - mean number of words: 113.2\n",
      "summary - mean number of chars: 604.4\n",
      "summary - mean number of tokens: 130.3\n",
      "summary - mean number of deidentified fields: 1.1\n",
      "summary - std of number of sentences: 2.6\n",
      "summary - std of number of words: 47.4\n",
      "summary - std of number of chars: 251.0\n",
      "summary - std of number of tokens: 55.4\n",
      "summary - std of number of deidentified fields: 1.7\n",
      "\n"
     ]
    }
   ],
   "execution_count": 38
  },
  {
   "metadata": {},
   "cell_type": "code",
   "outputs": [],
   "execution_count": null,
   "source": ""
  }
 ],
 "metadata": {
  "kernelspec": {
   "display_name": "avs_gen",
   "language": "python",
   "name": "python3"
  },
  "language_info": {
   "codemirror_mode": {
    "name": "ipython",
    "version": 3
   },
   "file_extension": ".py",
   "mimetype": "text/x-python",
   "name": "python",
   "nbconvert_exporter": "python",
   "pygments_lexer": "ipython3",
   "version": "3.9.18"
  },
  "orig_nbformat": 4
 },
 "nbformat": 4,
 "nbformat_minor": 2
}
